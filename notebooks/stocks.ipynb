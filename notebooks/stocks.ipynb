{
 "cells": [
  {
   "cell_type": "markdown",
   "metadata": {},
   "source": [
    "# Calculating daily price variations in stocks using Apache Spark\n",
    "\n",
    "We **extract** the csv files downloaded from \"https://www.kaggle.com/jacksoncrow/stock-market-dataset\". (In this example we only use 10 files to keep the running of the script short. The folder containing this example it's call 'stocks10'.)\n",
    "\n",
    "Then we **transform** the data calculting the daily variation by subtracting the opening price from the closing price of each stock. \n",
    "We add this result in a new column (named as each specific stock and drop the rest of the columns)\n",
    "We join the new columns to the dataframe 'stocks'. \n",
    "\n",
    "Finally we **load** the dataframe as a parquet file partitioning it by year and month."
   ]
  },
  {
   "cell_type": "code",
   "execution_count": null,
   "metadata": {},
   "outputs": [],
   "source": [
    "from pyspark.context import SparkContext\n",
    "from pyspark.sql.session import SparkSession\n",
    "from pyspark.sql import SQLContext\n",
    "from pyspark.sql.functions import *\n",
    "from glob import glob, os\n",
    "from pyspark.sql.types import StructType, StructField, TimestampType\n",
    "\n",
    "sc = SparkContext.getOrCreate()\n",
    "spark = SparkSession(sc)\n",
    "sqlContext = SQLContext(sc)\n",
    "\n",
    "schema = StructType([StructField('Date', TimestampType(), True)])\n",
    "\n",
    "stocks = sqlContext.createDataFrame(spark.sparkContext.emptyRDD(), schema)\n",
    "\n",
    "#Extract\n",
    "path = '/home/jovyan/stocks10/'\n",
    "for file in sorted(glob(os.path.join(path, '*.csv'))):\n",
    "    file = file.split('/')\n",
    "    file = file[-1]\n",
    "\n",
    "    df = spark.read.format('csv').option('header', True).load(f'/home/jovyan/stocks10/{file}')\n",
    "    file = file.split('.')\n",
    "    stock_name = file[-2]\n",
    "    \n",
    "#Transform\n",
    "    df = df.withColumn(f'{stock_name}', (df['Close'] - df['Open'])/ df['Open'])\n",
    "    df = df.drop('High', 'Low', 'Adj Close', 'Volume', 'Open', 'Close')\n",
    "    stocks = stocks.join(df, on= 'Date', how = 'fullouter')\n",
    "\n",
    "stocks = stocks.withColumn(\"Year\", year(\"Date\")).withColumn(\"Month\", month(\"Date\")).repartition('Year', 'Month')\n",
    "\n",
    "#Load\n",
    "stocks.write.format('parquet').mode('overwrite').partitionBy(['year', 'month']).save(f'/home/jovyan/parquet/')"
   ]
  },
  {
   "cell_type": "code",
   "execution_count": 3,
   "metadata": {
    "scrolled": false
   },
   "outputs": [
    {
     "name": "stdout",
     "output_type": "stream",
     "text": [
      "./year=1968/month=2/.part-00021-3f436c55-1eb2-4f3d-9a45-1d00a7e8f6e4.c000.snappy.parquet.crc\r\n",
      "./year=1968/month=3\r\n",
      "./year=1968/month=3/.part-00136-3f436c55-1eb2-4f3d-9a45-1d00a7e8f6e4.c000.snappy.parquet.crc\r\n",
      "./year=1968/month=3/part-00136-3f436c55-1eb2-4f3d-9a45-1d00a7e8f6e4.c000.snappy.parquet\r\n",
      "./year=1968/month=8\r\n",
      "./year=1968/month=8/part-00178-3f436c55-1eb2-4f3d-9a45-1d00a7e8f6e4.c000.snappy.parquet\r\n",
      "./year=1968/month=8/.part-00178-3f436c55-1eb2-4f3d-9a45-1d00a7e8f6e4.c000.snappy.parquet.crc\r\n",
      "./year=1968/month=9\r\n",
      "./year=1968/month=9/.part-00013-3f436c55-1eb2-4f3d-9a45-1d00a7e8f6e4.c000.snappy.parquet.crc\r\n",
      "./year=1968/month=9/part-00013-3f436c55-1eb2-4f3d-9a45-1d00a7e8f6e4.c000.snappy.parquet\r\n"
     ]
    }
   ],
   "source": [
    "!cd /home/jovyan/parquet/ && find | tail -n 10"
   ]
  }
 ],
 "metadata": {
  "kernelspec": {
   "display_name": "Python 3",
   "language": "python",
   "name": "python3"
  },
  "language_info": {
   "codemirror_mode": {
    "name": "ipython",
    "version": 3
   },
   "file_extension": ".py",
   "mimetype": "text/x-python",
   "name": "python",
   "nbconvert_exporter": "python",
   "pygments_lexer": "ipython3",
   "version": "3.8.6"
  }
 },
 "nbformat": 4,
 "nbformat_minor": 4
}
